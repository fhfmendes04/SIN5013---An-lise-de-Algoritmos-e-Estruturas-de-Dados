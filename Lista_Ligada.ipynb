{
  "nbformat": 4,
  "nbformat_minor": 0,
  "metadata": {
    "colab": {
      "name": "Lista_Ligada.ipynb",
      "provenance": [],
      "collapsed_sections": [],
      "authorship_tag": "ABX9TyPtqJpaoOY5uB6hIoPVZB6j",
      "include_colab_link": true
    },
    "kernelspec": {
      "name": "python3",
      "display_name": "Python 3"
    },
    "language_info": {
      "name": "python"
    }
  },
  "cells": [
    {
      "cell_type": "markdown",
      "metadata": {
        "id": "view-in-github",
        "colab_type": "text"
      },
      "source": [
        "<a href=\"https://colab.research.google.com/github/fhfmendes04/SIN5013---Estruturas-de-Dados/blob/main/Lista_Ligada.ipynb\" target=\"_parent\"><img src=\"https://colab.research.google.com/assets/colab-badge.svg\" alt=\"Open In Colab\"/></a>"
      ]
    },
    {
      "cell_type": "markdown",
      "source": [
        "Class da lista Ligada"
      ],
      "metadata": {
        "id": "Ok8q566_XzYn"
      }
    },
    {
      "cell_type": "code",
      "execution_count": 4,
      "metadata": {
        "id": "mXfa-liK0lND"
      },
      "outputs": [],
      "source": [
        "class Registro:\n",
        "    \"\"\" elemento com ponteiro. \"\"\"\n",
        "    def __init__(self, elemento=None):\n",
        "        self.elemento = elemento\n",
        "        self.proximo = None\n",
        "\n",
        "class lista_ligada:\n",
        "\n",
        "  def __init__ (self):\n",
        "    ''' Inicializa a Lista Ligada'''\n",
        "    self.inicio = None\n",
        "\n",
        "  def reiniciar_lista(self):\n",
        "    ''' Reinicia lista zerando o número de elemento.'''\n",
        "    self.inicio = None\n",
        "  \n",
        "  def inserir_ult(self, elemento):\n",
        "    ''' Inseri na última posição da lista como append.'''\n",
        "    registro = Registro(elemento)\n",
        "    \n",
        "    ini = self.inicio\n",
        "    if (ini == None):\n",
        "      self.inicio = registro\n",
        "      return True\n",
        "\n",
        "    while(ini != None):\n",
        "      pos = ini\n",
        "      ini = ini.proximo\n",
        "    \n",
        "    pos.proximo = registro\n",
        "    return True\n",
        "\n",
        "  def exibir_lista(self):\n",
        "    ''' Lista os elementos da lista. '''\n",
        "    l = []\n",
        "    end = self.inicio\n",
        "    while(end != None):\n",
        "      l.append(end.elemento)\n",
        "      end = end.proximo\n",
        "    return l\n",
        "\n",
        "  def retorna_numero_elemento(self):\n",
        "    end = self.inicio\n",
        "    tam = 0\n",
        "    while(end != None):\n",
        "      tam += 1\n",
        "      end = end.proximo\n",
        "\n",
        "    return tam\n",
        "\n",
        "  def busca_sequencial(self, elemento):\n",
        "    ''' busca elemento na lista e retorna sua posição.'''\n",
        "    pos = self.inicio\n",
        "    posicao = 0\n",
        "    while (pos != None):\n",
        "      if (pos.elemento== elemento):\n",
        "       return posicao\n",
        "      pos = pos.proximo\n",
        "      posicao += 1\n",
        "    return None\n",
        "\n",
        "  def busca_sequencial_ord(self, elemento):\n",
        "    ''' busca elemento na lista e retorna sua posição.'''\n",
        "    pos = self.inicio\n",
        "\n",
        "    posicao = 0\n",
        "    while (pos != None) and (pos.elemento < elemento):\n",
        "      pos = pos.proximo\n",
        "      posicao += 1\n",
        "    \n",
        "    if (pos != None) and (pos.elemento== elemento):\n",
        "       return posicao\n",
        "    return None\n",
        "\n",
        "  def inserir_elemento_lista(self, elemento, posicao):\n",
        "    ''' Inserir elemento em uma posição determinada.'''\n",
        "    n_elemento = lista_ligada.retorna_numero_elemento(self)\n",
        "    if ( (posicao < 0) or (posicao > n_elemento) ):\n",
        "      return False\n",
        "\n",
        "    registro = Registro(elemento)\n",
        "    ponteiro = self.inicio\n",
        "    pos = 0\n",
        "    if (pos == posicao):\n",
        "      if (ponteiro == None):\n",
        "        self.inicio = registro\n",
        "        return True\n",
        "      else:\n",
        "        registro.proximo = ponteiro\n",
        "        self.inicio = registro\n",
        "        return True\n",
        "    else:\n",
        "      while(posicao != pos):\n",
        "        ponteiro_anterior = ponteiro\n",
        "        ponteiro = ponteiro.proximo\n",
        "        pos +=1\n",
        "    \n",
        "    registro.proximo = ponteiro\n",
        "    ponteiro_anterior.proximo = registro\n",
        "    return True\n",
        "\n",
        "\n",
        "  \n",
        "  #def inserir_elemento_ord(self, elemento):\n",
        "    ''' Inserir elemento em uma posição ordenada.\n",
        "    registro = Registro(elemento)\n",
        "    pos = self.inicio\n",
        "    if (pos == None):\n",
        "      self.inicio = registro\n",
        "      return True\n",
        "    \n",
        "    while(pos != None):\n",
        "      temp = pos\n",
        "      if (pos.elemento > elemento):\n",
        "        if (pos.proximo == None):\n",
        "      end = end.proximo\n",
        "    \n",
        "    pos.proximo = registro\n",
        "    return True\n",
        "\n",
        "\n",
        "    \n",
        "\n",
        "    pos = self.n_elemento\n",
        "    while ((pos > 0) and (self.lista[pos-1] > elemento)):\n",
        "      self.lista[pos] = self.lista[pos-1]\n",
        "      pos = pos - 1\n",
        "      \n",
        "    self.lista[pos] = elemento\n",
        "    self.n_elemento += 1\n",
        "\n",
        "    return True \n",
        "    '''\n",
        "\n",
        "  def excluir_elemento(self, elemento):\n",
        "    ''' Excluir elemento.'''\n",
        "    posicao = lista.busca_sequencial(elemento)\n",
        "    if (posicao == -1):\n",
        "      return False\n",
        "\n",
        "    ponteiro = self.inicio  \n",
        "    pos = 0\n",
        "    \n",
        "    if (posicao == pos):\n",
        "      self.inicio = ponteiro.proximo\n",
        "      return True\n",
        "\n",
        "    while(posicao != pos):\n",
        "      ponteiro_anterior = ponteiro\n",
        "      ponteiro = ponteiro.proximo\n",
        "      pos +=1\n",
        "    \n",
        "    ponteiro_anterior.proximo = ponteiro.proximo \n",
        "    return True\n",
        "\n",
        "    ini = self.inicio\n",
        "    if (ini == None):\n",
        "      self.inicio = registro\n",
        "      return True\n",
        "\n",
        "    while(ini != None):\n",
        "      pos = ini\n",
        "      ini = ini.proximo\n",
        "    \n",
        "    pos.proximo = registro\n",
        "    return True\n"
      ]
    },
    {
      "cell_type": "markdown",
      "source": [
        "Inicializar a estrutura"
      ],
      "metadata": {
        "id": "q9sgd56f0rTI"
      }
    },
    {
      "cell_type": "code",
      "source": [
        "lista = lista_ligada()"
      ],
      "metadata": {
        "id": "jnH1uJwCFtAK"
      },
      "execution_count": 2,
      "outputs": []
    },
    {
      "cell_type": "markdown",
      "source": [
        "Inserir na última posição."
      ],
      "metadata": {
        "id": "5c5Ftip8ZeQ0"
      }
    },
    {
      "cell_type": "code",
      "source": [
        "lista.inserir_ult(10)\n",
        "lista.inserir_ult(20)\n",
        "lista.inserir_ult(30)\n",
        "lista.inserir_ult(40)"
      ],
      "metadata": {
        "id": "GF47MEFUZezQ",
        "colab": {
          "base_uri": "https://localhost:8080/"
        },
        "outputId": "5a46d2e7-d3ec-401c-e112-67108da08c4b"
      },
      "execution_count": 3,
      "outputs": [
        {
          "output_type": "execute_result",
          "data": {
            "text/plain": [
              "True"
            ]
          },
          "metadata": {},
          "execution_count": 3
        }
      ]
    },
    {
      "cell_type": "markdown",
      "source": [
        "Retorna o Número de elemento"
      ],
      "metadata": {
        "id": "S_BV3zWW9coD"
      }
    },
    {
      "cell_type": "code",
      "source": [
        "lista.retorna_numero_elemento()"
      ],
      "metadata": {
        "colab": {
          "base_uri": "https://localhost:8080/"
        },
        "id": "cPK-mNur9c5y",
        "outputId": "3c7fff63-95fb-474f-c0c0-daf2ba350ee8"
      },
      "execution_count": null,
      "outputs": [
        {
          "output_type": "execute_result",
          "data": {
            "text/plain": [
              "4"
            ]
          },
          "metadata": {},
          "execution_count": 71
        }
      ]
    },
    {
      "cell_type": "markdown",
      "source": [
        "Impressão da Lista"
      ],
      "metadata": {
        "id": "baVPAv12_jJU"
      }
    },
    {
      "cell_type": "code",
      "source": [
        "lista.exibir_lista()"
      ],
      "metadata": {
        "colab": {
          "base_uri": "https://localhost:8080/"
        },
        "id": "CucDuqtd_y5k",
        "outputId": "24aee5fc-1f44-4cde-ae8b-3652c6a4d06c"
      },
      "execution_count": null,
      "outputs": [
        {
          "output_type": "execute_result",
          "data": {
            "text/plain": [
              "[10, 20, 30, 40]"
            ]
          },
          "metadata": {},
          "execution_count": 24
        }
      ]
    },
    {
      "cell_type": "markdown",
      "source": [
        "Busca por elemento"
      ],
      "metadata": {
        "id": "euqIFxOT_js9"
      }
    },
    {
      "cell_type": "code",
      "source": [
        "lista.busca_sequencial(30)"
      ],
      "metadata": {
        "colab": {
          "base_uri": "https://localhost:8080/"
        },
        "id": "mr0vzdOfA80x",
        "outputId": "204f1a52-ba01-49b0-a426-6268b0a4d1c9"
      },
      "execution_count": null,
      "outputs": [
        {
          "output_type": "execute_result",
          "data": {
            "text/plain": [
              "2"
            ]
          },
          "metadata": {},
          "execution_count": 32
        }
      ]
    },
    {
      "cell_type": "code",
      "source": [
        "lista.busca_sequencial(100)"
      ],
      "metadata": {
        "colab": {
          "base_uri": "https://localhost:8080/"
        },
        "id": "-8E0qQ4CBHBD",
        "outputId": "8e1ff9b0-629e-4182-b5aa-483fd8c7e83c"
      },
      "execution_count": null,
      "outputs": [
        {
          "output_type": "execute_result",
          "data": {
            "text/plain": [
              "-1"
            ]
          },
          "metadata": {},
          "execution_count": 30
        }
      ]
    },
    {
      "cell_type": "markdown",
      "source": [
        "Inserção Posição específica"
      ],
      "metadata": {
        "id": "BWEBOE_7_kWy"
      }
    },
    {
      "cell_type": "code",
      "source": [
        "lista.inserir_elemento_lista(5, 100)"
      ],
      "metadata": {
        "id": "RF4LlGgKBhFV",
        "outputId": "0a8dd192-bfec-4f58-c08d-dfc05d93c4a3",
        "colab": {
          "base_uri": "https://localhost:8080/"
        }
      },
      "execution_count": null,
      "outputs": [
        {
          "output_type": "execute_result",
          "data": {
            "text/plain": [
              "False"
            ]
          },
          "metadata": {},
          "execution_count": 57
        }
      ]
    },
    {
      "cell_type": "code",
      "source": [
        "lista.exibir_lista()"
      ],
      "metadata": {
        "id": "kJL7mcz6u5vZ",
        "outputId": "3069fb5b-5b8e-42d5-b694-ee26344b1a22",
        "colab": {
          "base_uri": "https://localhost:8080/"
        }
      },
      "execution_count": null,
      "outputs": [
        {
          "output_type": "execute_result",
          "data": {
            "text/plain": [
              "[10, 20, 30, 40]"
            ]
          },
          "metadata": {},
          "execution_count": 58
        }
      ]
    },
    {
      "cell_type": "code",
      "source": [
        "# Na primeira posicão\n",
        "lista.inserir_elemento_lista(5, 0)\n",
        "lista.exibir_lista()"
      ],
      "metadata": {
        "colab": {
          "base_uri": "https://localhost:8080/"
        },
        "id": "UETfCoKbEo9H",
        "outputId": "2122480d-fe44-4f07-b111-c660b982225c"
      },
      "execution_count": null,
      "outputs": [
        {
          "output_type": "execute_result",
          "data": {
            "text/plain": [
              "[5, 20, 30]"
            ]
          },
          "metadata": {},
          "execution_count": 76
        }
      ]
    },
    {
      "cell_type": "code",
      "source": [
        "# Na última posição\n",
        "lista.inserir_elemento_lista(50, 5)\n",
        "lista.exibir_lista()"
      ],
      "metadata": {
        "id": "22h9ooiRv0CC",
        "outputId": "2819a290-e5f2-40d8-8580-3f9b926d0b4d",
        "colab": {
          "base_uri": "https://localhost:8080/"
        }
      },
      "execution_count": null,
      "outputs": [
        {
          "output_type": "execute_result",
          "data": {
            "text/plain": [
              "[5, 10, 20, 30, 40, 50]"
            ]
          },
          "metadata": {},
          "execution_count": 60
        }
      ]
    },
    {
      "cell_type": "code",
      "source": [
        "lista.inserir_elemento_lista(24, 4)\n",
        "lista.exibir_lista()"
      ],
      "metadata": {
        "colab": {
          "base_uri": "https://localhost:8080/"
        },
        "id": "R8VDmI8ndc5I",
        "outputId": "ed13fb34-1ea9-42f5-e9a3-08860ba18ee4"
      },
      "execution_count": null,
      "outputs": [
        {
          "output_type": "execute_result",
          "data": {
            "text/plain": [
              "[5, 10, 20, 30, 24, 40, 50]"
            ]
          },
          "metadata": {},
          "execution_count": 61
        }
      ]
    },
    {
      "cell_type": "markdown",
      "source": [
        "Exclusão de elemento."
      ],
      "metadata": {
        "id": "xp6u2Hm7BbhV"
      }
    },
    {
      "cell_type": "code",
      "source": [
        "lista.exibir_lista()"
      ],
      "metadata": {
        "id": "pHApfkgZzPER",
        "outputId": "0a41d2a9-0ca2-4891-f3c8-4e493c9d1a7c",
        "colab": {
          "base_uri": "https://localhost:8080/"
        }
      },
      "execution_count": null,
      "outputs": [
        {
          "output_type": "execute_result",
          "data": {
            "text/plain": [
              "[5, 20, 30]"
            ]
          },
          "metadata": {},
          "execution_count": 77
        }
      ]
    },
    {
      "cell_type": "code",
      "source": [
        "# Eliminar o primeiro elemento.\n",
        "lista.excluir_elemento(10)\n",
        "lista.exibir_lista()"
      ],
      "metadata": {
        "colab": {
          "base_uri": "https://localhost:8080/"
        },
        "id": "XhK2v4tYBcBS",
        "outputId": "f09173ad-9b51-482b-a418-9bb488aa144d"
      },
      "execution_count": null,
      "outputs": [
        {
          "output_type": "execute_result",
          "data": {
            "text/plain": [
              "[20, 30, 40]"
            ]
          },
          "metadata": {},
          "execution_count": 73
        }
      ]
    },
    {
      "cell_type": "code",
      "source": [
        "lista.excluir_elemento(100)"
      ],
      "metadata": {
        "colab": {
          "base_uri": "https://localhost:8080/"
        },
        "id": "07M6bkO7hD6x",
        "outputId": "49bcbf6d-aa4e-461e-ef75-cab1e6a11b5c"
      },
      "execution_count": null,
      "outputs": [
        {
          "output_type": "execute_result",
          "data": {
            "text/plain": [
              "False"
            ]
          },
          "metadata": {},
          "execution_count": 74
        }
      ]
    },
    {
      "cell_type": "code",
      "source": [
        "# Eliminar elemento na última posição\n",
        "lista.excluir_elemento(40)\n",
        "lista.exibir_lista()"
      ],
      "metadata": {
        "colab": {
          "base_uri": "https://localhost:8080/"
        },
        "id": "K0ixOjCHhHcd",
        "outputId": "d752e882-bf2c-4f41-9f39-69530f413e56"
      },
      "execution_count": null,
      "outputs": [
        {
          "output_type": "execute_result",
          "data": {
            "text/plain": [
              "[20, 30]"
            ]
          },
          "metadata": {},
          "execution_count": 75
        }
      ]
    },
    {
      "cell_type": "code",
      "source": [
        "# Eliminar elemento nao meio.\n",
        "lista.excluir_elemento(20)\n",
        "lista.exibir_lista()"
      ],
      "metadata": {
        "id": "EjGcaWw2zk7f",
        "outputId": "9f7ad85a-1004-4fc0-a947-66f445eeb46a",
        "colab": {
          "base_uri": "https://localhost:8080/"
        }
      },
      "execution_count": null,
      "outputs": [
        {
          "output_type": "execute_result",
          "data": {
            "text/plain": [
              "[5, 30]"
            ]
          },
          "metadata": {},
          "execution_count": 78
        }
      ]
    },
    {
      "cell_type": "markdown",
      "source": [
        "Reiniciar lista."
      ],
      "metadata": {
        "id": "1wWFAg0ZBchG"
      }
    },
    {
      "cell_type": "code",
      "source": [
        "lista.exibir_lista()"
      ],
      "metadata": {
        "colab": {
          "base_uri": "https://localhost:8080/"
        },
        "id": "yXj4I9gShxHt",
        "outputId": "66bff8e4-dee3-4c52-9634-8053f2f2741f"
      },
      "execution_count": null,
      "outputs": [
        {
          "output_type": "execute_result",
          "data": {
            "text/plain": [
              "[5, 30]"
            ]
          },
          "metadata": {},
          "execution_count": 79
        }
      ]
    },
    {
      "cell_type": "code",
      "source": [
        "lista.reiniciar_lista()"
      ],
      "metadata": {
        "id": "wNS_Qa45Bcx8"
      },
      "execution_count": null,
      "outputs": []
    },
    {
      "cell_type": "code",
      "source": [
        "lista.exibir_lista()"
      ],
      "metadata": {
        "colab": {
          "base_uri": "https://localhost:8080/"
        },
        "id": "5wqHxperh2so",
        "outputId": "6adb80b6-6827-4f0c-e8e5-5de4f4041269"
      },
      "execution_count": null,
      "outputs": [
        {
          "output_type": "execute_result",
          "data": {
            "text/plain": [
              "[]"
            ]
          },
          "metadata": {},
          "execution_count": 81
        }
      ]
    }
  ]
}