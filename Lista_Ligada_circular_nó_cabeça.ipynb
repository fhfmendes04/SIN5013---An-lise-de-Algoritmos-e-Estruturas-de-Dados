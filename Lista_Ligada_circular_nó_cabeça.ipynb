{
  "nbformat": 4,
  "nbformat_minor": 0,
  "metadata": {
    "colab": {
      "name": "Lista_Ligada_circular_nó_cabeça.ipynb",
      "provenance": [],
      "collapsed_sections": [],
      "authorship_tag": "ABX9TyOCoTkHuxxq/QGpnFn+BqOU",
      "include_colab_link": true
    },
    "kernelspec": {
      "name": "python3",
      "display_name": "Python 3"
    },
    "language_info": {
      "name": "python"
    }
  },
  "cells": [
    {
      "cell_type": "markdown",
      "metadata": {
        "id": "view-in-github",
        "colab_type": "text"
      },
      "source": [
        "<a href=\"https://colab.research.google.com/github/fhfmendes04/SIN5013---Estruturas-de-Dados/blob/main/Lista_Ligada_circular_n%C3%B3_cabe%C3%A7a.ipynb\" target=\"_parent\"><img src=\"https://colab.research.google.com/assets/colab-badge.svg\" alt=\"Open In Colab\"/></a>"
      ]
    },
    {
      "cell_type": "markdown",
      "source": [
        "Class da lista Ligada"
      ],
      "metadata": {
        "id": "Ok8q566_XzYn"
      }
    },
    {
      "cell_type": "code",
      "execution_count": null,
      "metadata": {
        "id": "mXfa-liK0lND"
      },
      "outputs": [],
      "source": [
        "class Registro:\n",
        "    \"\"\" elemento com ponteiro. \"\"\"\n",
        "    def __init__(self, elemento=None):\n",
        "        self.elemento = elemento\n",
        "        self.proximo = None\n",
        "\n",
        "class lista_ligada:\n",
        "\n",
        "  def __init__ (self):\n",
        "    ''' Inicializa a Lista Ligada'''\n",
        "    self.inicio = None\n",
        "\n",
        "  def reiniciar_lista(self):\n",
        "    ''' Reinicia lista zerando o número de elemento.'''\n",
        "    end = self.inicio\n",
        "    while (end != None):\n",
        "      apagar = end\n",
        "      end = end.proximo\n",
        "      del(apagar)\n",
        "      \n",
        "    self.inicio = None\n",
        "  \n",
        "  def inserir_ult(self, elemento):\n",
        "    ''' Inseri na última posição da lista como append.'''\n",
        "    registro = Registro(elemento)\n",
        "    \n",
        "    ini = self.inicio # somente um elemento\n",
        "    if (ini == None):\n",
        "      self.inicio = registro\n",
        "      return True\n",
        "\n",
        "    while(ini != None): #após o primeiro elemento\n",
        "      pos = ini\n",
        "      ini = ini.proximo\n",
        "    \n",
        "    pos.proximo = registro\n",
        "    return True\n",
        "\n",
        "  def exibir_lista(self):\n",
        "    ''' Lista os elementos da lista. '''\n",
        "    l = []\n",
        "    end = self.inicio\n",
        "    while(end != None):\n",
        "      l.append(end.elemento)\n",
        "      end = end.proximo\n",
        "    return l\n",
        "\n",
        "  def retorna_numero_elemento(self):\n",
        "    ''' Retorna o número de elementos.'''\n",
        "    end = self.inicio\n",
        "    tam = 0\n",
        "    while(end != None):\n",
        "      tam += 1\n",
        "      end = end.proximo\n",
        "\n",
        "    return tam\n",
        "\n",
        "  def busca_sequencial(self, elemento):\n",
        "    ''' busca elemento na lista e retorna sua posição.'''\n",
        "    pos = self.inicio\n",
        "    posicao = 0\n",
        "    while (pos != None):\n",
        "      if (pos.elemento == elemento):\n",
        "       return posicao\n",
        "      pos = pos.proximo\n",
        "      posicao += 1\n",
        "    return None\n",
        "\n",
        "  def busca_sequencial_ord(self, elemento):\n",
        "    ''' busca elemento na lista e retorna sua posição.'''\n",
        "    pos = self.inicio\n",
        "    posicao = 0\n",
        "\n",
        "    while (pos != None) and (pos.elemento < elemento):\n",
        "      pos = pos.proximo\n",
        "      posicao += 1\n",
        "    \n",
        "    if (pos != None) and (pos.elemento == elemento):\n",
        "       return posicao\n",
        "\n",
        "    return None\n",
        "\n",
        "  def busca_sequencial_exc(self, elemento):\n",
        "    ''' busca elemento na lista e retorna sua posição.'''\n",
        "    #ant = None\n",
        "    atual = self.inicio\n",
        "\n",
        "    posicao = 0\n",
        "    while (atual != None) and (atual.elemento < elemento):\n",
        "      ant = atual\n",
        "      atual = atual.proximo\n",
        "      posicao += 1\n",
        "    \n",
        "    if (atual != None) and (atual.elemento== elemento):\n",
        "       return posicao\n",
        "    return None\n",
        "\n",
        "  def inserir_elemento_lista_ord(self, elemento):\n",
        "    ''' Inserir elemento em uma posição determinada.'''\n",
        "    atual = self.inicio \n",
        "    ant = None\n",
        "    \n",
        "    if (atual == None): #Verifica se está vazia.\n",
        "      registro = Registro(elemento)\n",
        "      self.inicio = registro\n",
        "      return True \n",
        "  \n",
        "    posicao = lista.busca_sequencial_ord(elemento)\n",
        "\n",
        "    if (posicao != None): # não insere elemento repetido\n",
        "      return False\n",
        "    \n",
        "    registro = Registro(elemento)\n",
        "\n",
        "    while (atual != None) and (atual.elemento < elemento):\n",
        "      ant = atual\n",
        "      atual = atual.proximo\n",
        "\n",
        "    if (ant == None): #inicio da lista.\n",
        "      registro.proximo = atual\n",
        "      self.inicio = registro\n",
        "      return True\n",
        "    else:\n",
        "      if (atual == None): #final da lista.\n",
        "        ant.proximo = registro\n",
        "        registro.proximo = None\n",
        "        return True\n",
        "      else:\n",
        "        registro.proximo = atual\n",
        "        ant.proximo = registro\n",
        "        return True  \n",
        "\n",
        "\n",
        "  def inserir_elemento_lista(self, elemento, posicao):\n",
        "    ''' Inserir elemento em uma posição determinada.'''\n",
        "    n_elemento = lista_ligada.retorna_numero_elemento(self)\n",
        "    if ( (posicao < 0) or (posicao > n_elemento) ):\n",
        "      return False\n",
        "\n",
        "    registro = Registro(elemento)\n",
        "    ponteiro = self.inicio\n",
        "    pos = 0\n",
        "    if (pos == posicao):\n",
        "      if (ponteiro == None):\n",
        "        self.inicio = registro\n",
        "        return True\n",
        "      else:\n",
        "        registro.proximo = ponteiro\n",
        "        self.inicio = registro\n",
        "        return True\n",
        "    else:\n",
        "      while(posicao != pos):\n",
        "        ponteiro_anterior = ponteiro\n",
        "        ponteiro = ponteiro.proximo\n",
        "        pos +=1\n",
        "    \n",
        "    registro.proximo = ponteiro\n",
        "    ponteiro_anterior.proximo = registro\n",
        "    return True\n",
        "\n",
        "\n",
        "  def excluir_elemento(self, elemento):\n",
        "    ''' Excluir elemento.'''\n",
        "    posicao = lista.busca_sequencial(elemento)\n",
        "    #posicao = lista.busca_sequencial_ord(elemento)\n",
        "    if (posicao == None):\n",
        "      return False\n",
        "\n",
        "    ponteiro = self.inicio  \n",
        "    pos = 0\n",
        "    \n",
        "    if (posicao == pos):\n",
        "      self.inicio = ponteiro.proximo\n",
        "      return True\n",
        "\n",
        "    while(posicao != pos):\n",
        "      ponteiro_anterior = ponteiro\n",
        "      ponteiro = ponteiro.proximo\n",
        "      pos +=1\n",
        "    \n",
        "    ponteiro_anterior.proximo = ponteiro.proximo \n",
        "    return True\n",
        "\n",
        "    ini = self.inicio\n",
        "    if (ini == None):\n",
        "      self.inicio = registro\n",
        "      return True\n",
        "\n",
        "    while(ini != None):\n",
        "      pos = ini\n",
        "      ini = ini.proximo\n",
        "    \n",
        "    pos.proximo = registro\n",
        "    return True\n"
      ]
    },
    {
      "cell_type": "markdown",
      "source": [
        "Inicializar a estrutura"
      ],
      "metadata": {
        "id": "q9sgd56f0rTI"
      }
    },
    {
      "cell_type": "code",
      "source": [
        "lista = lista_ligada()"
      ],
      "metadata": {
        "id": "jnH1uJwCFtAK"
      },
      "execution_count": null,
      "outputs": []
    },
    {
      "cell_type": "markdown",
      "source": [
        "Inserir na última posição."
      ],
      "metadata": {
        "id": "5c5Ftip8ZeQ0"
      }
    },
    {
      "cell_type": "code",
      "source": [
        "lista.inserir_ult(10)\n",
        "lista.inserir_ult(20)\n",
        "lista.inserir_ult(30)\n",
        "lista.inserir_ult(40)"
      ],
      "metadata": {
        "id": "GF47MEFUZezQ",
        "colab": {
          "base_uri": "https://localhost:8080/"
        },
        "outputId": "31271db5-6e15-4ccb-d6d4-028f8235b15c"
      },
      "execution_count": null,
      "outputs": [
        {
          "output_type": "execute_result",
          "data": {
            "text/plain": [
              "True"
            ]
          },
          "metadata": {},
          "execution_count": 25
        }
      ]
    },
    {
      "cell_type": "markdown",
      "source": [
        "Retorna o Número de elemento"
      ],
      "metadata": {
        "id": "S_BV3zWW9coD"
      }
    },
    {
      "cell_type": "code",
      "source": [
        "lista.retorna_numero_elemento()"
      ],
      "metadata": {
        "colab": {
          "base_uri": "https://localhost:8080/"
        },
        "id": "cPK-mNur9c5y",
        "outputId": "ee4e738c-6cc9-435d-b198-1ebbbfffabcc"
      },
      "execution_count": null,
      "outputs": [
        {
          "output_type": "execute_result",
          "data": {
            "text/plain": [
              "4"
            ]
          },
          "metadata": {},
          "execution_count": 68
        }
      ]
    },
    {
      "cell_type": "markdown",
      "source": [
        "Impressão da Lista"
      ],
      "metadata": {
        "id": "baVPAv12_jJU"
      }
    },
    {
      "cell_type": "code",
      "source": [
        "lista.exibir_lista()"
      ],
      "metadata": {
        "colab": {
          "base_uri": "https://localhost:8080/"
        },
        "id": "CucDuqtd_y5k",
        "outputId": "ad07fe74-12f0-40c3-b6de-2498839db09d"
      },
      "execution_count": null,
      "outputs": [
        {
          "output_type": "execute_result",
          "data": {
            "text/plain": [
              "[10, 20, 30, 40]"
            ]
          },
          "metadata": {},
          "execution_count": 6
        }
      ]
    },
    {
      "cell_type": "markdown",
      "source": [
        "Busca por elemento"
      ],
      "metadata": {
        "id": "euqIFxOT_js9"
      }
    },
    {
      "cell_type": "code",
      "source": [
        "lista.busca_sequencial(30)"
      ],
      "metadata": {
        "colab": {
          "base_uri": "https://localhost:8080/"
        },
        "id": "mr0vzdOfA80x",
        "outputId": "99a59529-77e7-4ce2-9e08-a40f868e5719"
      },
      "execution_count": null,
      "outputs": [
        {
          "output_type": "execute_result",
          "data": {
            "text/plain": [
              "2"
            ]
          },
          "metadata": {},
          "execution_count": 7
        }
      ]
    },
    {
      "cell_type": "code",
      "source": [
        "lista.busca_sequencial(100)"
      ],
      "metadata": {
        "id": "-8E0qQ4CBHBD"
      },
      "execution_count": null,
      "outputs": []
    },
    {
      "cell_type": "markdown",
      "source": [
        "Inserção Posição específica"
      ],
      "metadata": {
        "id": "BWEBOE_7_kWy"
      }
    },
    {
      "cell_type": "code",
      "source": [
        "lista.inserir_elemento_lista(5, 100)"
      ],
      "metadata": {
        "id": "RF4LlGgKBhFV",
        "outputId": "0a8dd192-bfec-4f58-c08d-dfc05d93c4a3",
        "colab": {
          "base_uri": "https://localhost:8080/"
        }
      },
      "execution_count": null,
      "outputs": [
        {
          "output_type": "execute_result",
          "data": {
            "text/plain": [
              "False"
            ]
          },
          "metadata": {},
          "execution_count": 57
        }
      ]
    },
    {
      "cell_type": "code",
      "source": [
        "lista.exibir_lista()"
      ],
      "metadata": {
        "id": "kJL7mcz6u5vZ",
        "outputId": "df352eb9-88ec-4775-be2c-0c04724883ab",
        "colab": {
          "base_uri": "https://localhost:8080/"
        }
      },
      "execution_count": null,
      "outputs": [
        {
          "output_type": "execute_result",
          "data": {
            "text/plain": [
              "[10, 20, 30, 40]"
            ]
          },
          "metadata": {},
          "execution_count": 11
        }
      ]
    },
    {
      "cell_type": "code",
      "source": [
        "# Na primeira posicão\n",
        "lista.inserir_elemento_lista(5, 0)\n",
        "lista.exibir_lista()"
      ],
      "metadata": {
        "colab": {
          "base_uri": "https://localhost:8080/"
        },
        "id": "UETfCoKbEo9H",
        "outputId": "31804f26-1725-408c-f27c-63d83bba26b9"
      },
      "execution_count": null,
      "outputs": [
        {
          "output_type": "execute_result",
          "data": {
            "text/plain": [
              "[5, 10, 20, 30, 40]"
            ]
          },
          "metadata": {},
          "execution_count": 9
        }
      ]
    },
    {
      "cell_type": "code",
      "source": [
        "# Na última posição\n",
        "lista.inserir_elemento_lista(50, 5)\n",
        "lista.exibir_lista()"
      ],
      "metadata": {
        "id": "22h9ooiRv0CC",
        "outputId": "6ba4c7aa-d2a2-4888-90bc-e2ac6f641dd0",
        "colab": {
          "base_uri": "https://localhost:8080/"
        }
      },
      "execution_count": null,
      "outputs": [
        {
          "output_type": "execute_result",
          "data": {
            "text/plain": [
              "[5, 10, 20, 30, 40, 50]"
            ]
          },
          "metadata": {},
          "execution_count": 10
        }
      ]
    },
    {
      "cell_type": "code",
      "source": [
        "lista.inserir_elemento_lista(24, 4)\n",
        "lista.exibir_lista()"
      ],
      "metadata": {
        "colab": {
          "base_uri": "https://localhost:8080/"
        },
        "id": "R8VDmI8ndc5I",
        "outputId": "40329086-87fb-4757-993e-3f44b27d5eb4"
      },
      "execution_count": null,
      "outputs": [
        {
          "output_type": "execute_result",
          "data": {
            "text/plain": [
              "[5, 10, 20, 30, 24, 40, 50]"
            ]
          },
          "metadata": {},
          "execution_count": 11
        }
      ]
    },
    {
      "cell_type": "markdown",
      "source": [
        "Inserir Elemento Ordenado."
      ],
      "metadata": {
        "id": "lLT3PHbuHgSq"
      }
    },
    {
      "cell_type": "code",
      "source": [
        "lista.exibir_lista()"
      ],
      "metadata": {
        "colab": {
          "base_uri": "https://localhost:8080/"
        },
        "id": "Br-XcfZ_Hgb_",
        "outputId": "56c72f32-08e1-47ca-9a0d-29add64eb144"
      },
      "execution_count": null,
      "outputs": [
        {
          "output_type": "execute_result",
          "data": {
            "text/plain": [
              "[1, 10, 20]"
            ]
          },
          "metadata": {},
          "execution_count": 11
        }
      ]
    },
    {
      "cell_type": "code",
      "source": [
        "lista.inserir_elemento_lista_ord(20)"
      ],
      "metadata": {
        "colab": {
          "base_uri": "https://localhost:8080/"
        },
        "id": "Xqcmk3_fKopM",
        "outputId": "7ff86ece-ac4d-471f-bd69-11e6df9f6ad2"
      },
      "execution_count": null,
      "outputs": [
        {
          "output_type": "execute_result",
          "data": {
            "text/plain": [
              "True"
            ]
          },
          "metadata": {},
          "execution_count": 10
        }
      ]
    },
    {
      "cell_type": "markdown",
      "source": [
        "Exclusão de elemento."
      ],
      "metadata": {
        "id": "xp6u2Hm7BbhV"
      }
    },
    {
      "cell_type": "code",
      "source": [
        "lista.exibir_lista()"
      ],
      "metadata": {
        "id": "pHApfkgZzPER",
        "outputId": "7ad57efa-594e-493b-cba2-60f4fe339fbc",
        "colab": {
          "base_uri": "https://localhost:8080/"
        }
      },
      "execution_count": null,
      "outputs": [
        {
          "output_type": "execute_result",
          "data": {
            "text/plain": [
              "[10, 20, 30, 40]"
            ]
          },
          "metadata": {},
          "execution_count": 18
        }
      ]
    },
    {
      "cell_type": "code",
      "source": [
        "# Eliminar o primeiro elemento.\n",
        "lista.excluir_elemento(10)\n",
        "lista.exibir_lista()"
      ],
      "metadata": {
        "colab": {
          "base_uri": "https://localhost:8080/"
        },
        "id": "XhK2v4tYBcBS",
        "outputId": "53ad941e-6d41-4225-a445-ccbc7f892d83"
      },
      "execution_count": null,
      "outputs": [
        {
          "output_type": "execute_result",
          "data": {
            "text/plain": [
              "[20, 30, 40]"
            ]
          },
          "metadata": {},
          "execution_count": 19
        }
      ]
    },
    {
      "cell_type": "code",
      "source": [
        "lista.excluir_elemento(100)"
      ],
      "metadata": {
        "colab": {
          "base_uri": "https://localhost:8080/"
        },
        "id": "07M6bkO7hD6x",
        "outputId": "14308eb6-b7c2-46d9-b365-ca4b21fd3ee4"
      },
      "execution_count": null,
      "outputs": [
        {
          "output_type": "execute_result",
          "data": {
            "text/plain": [
              "False"
            ]
          },
          "metadata": {},
          "execution_count": 20
        }
      ]
    },
    {
      "cell_type": "code",
      "source": [
        "# Eliminar elemento na última posição\n",
        "lista.excluir_elemento(40)\n",
        "lista.exibir_lista()"
      ],
      "metadata": {
        "colab": {
          "base_uri": "https://localhost:8080/"
        },
        "id": "K0ixOjCHhHcd",
        "outputId": "46b91e1b-0509-447b-9a06-78d268449d44"
      },
      "execution_count": null,
      "outputs": [
        {
          "output_type": "execute_result",
          "data": {
            "text/plain": [
              "[20, 30]"
            ]
          },
          "metadata": {},
          "execution_count": 21
        }
      ]
    },
    {
      "cell_type": "code",
      "source": [
        "# Eliminar elemento nao meio.\n",
        "lista.excluir_elemento(20)\n",
        "lista.exibir_lista()"
      ],
      "metadata": {
        "id": "EjGcaWw2zk7f",
        "outputId": "bf8069cc-2497-40b4-d414-1e081235379c",
        "colab": {
          "base_uri": "https://localhost:8080/"
        }
      },
      "execution_count": null,
      "outputs": [
        {
          "output_type": "execute_result",
          "data": {
            "text/plain": [
              "[30]"
            ]
          },
          "metadata": {},
          "execution_count": 22
        }
      ]
    },
    {
      "cell_type": "markdown",
      "source": [
        "Reiniciar lista."
      ],
      "metadata": {
        "id": "1wWFAg0ZBchG"
      }
    },
    {
      "cell_type": "code",
      "source": [
        "lista.exibir_lista()"
      ],
      "metadata": {
        "colab": {
          "base_uri": "https://localhost:8080/"
        },
        "id": "yXj4I9gShxHt",
        "outputId": "4e803d13-86d1-4b5a-ca70-3e30623559b2"
      },
      "execution_count": null,
      "outputs": [
        {
          "output_type": "execute_result",
          "data": {
            "text/plain": [
              "[10, 20, 30, 40]"
            ]
          },
          "metadata": {},
          "execution_count": 26
        }
      ]
    },
    {
      "cell_type": "code",
      "source": [
        "lista.reiniciar_lista()"
      ],
      "metadata": {
        "id": "wNS_Qa45Bcx8"
      },
      "execution_count": null,
      "outputs": []
    },
    {
      "cell_type": "code",
      "source": [
        "lista.exibir_lista()"
      ],
      "metadata": {
        "colab": {
          "base_uri": "https://localhost:8080/"
        },
        "id": "5wqHxperh2so",
        "outputId": "5fb5194c-8876-48c9-d08b-fa92879bd72e"
      },
      "execution_count": null,
      "outputs": [
        {
          "output_type": "execute_result",
          "data": {
            "text/plain": [
              "[]"
            ]
          },
          "metadata": {},
          "execution_count": 28
        }
      ]
    }
  ]
}