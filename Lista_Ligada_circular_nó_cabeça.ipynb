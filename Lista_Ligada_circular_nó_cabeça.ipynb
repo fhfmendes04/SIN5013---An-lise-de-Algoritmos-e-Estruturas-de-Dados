{
  "nbformat": 4,
  "nbformat_minor": 0,
  "metadata": {
    "colab": {
      "name": "Lista_Ligada_circular_nó_cabeça.ipynb",
      "provenance": [],
      "collapsed_sections": [],
      "authorship_tag": "ABX9TyNbl8lbIcPeErn2+b6seutP",
      "include_colab_link": true
    },
    "kernelspec": {
      "name": "python3",
      "display_name": "Python 3"
    },
    "language_info": {
      "name": "python"
    }
  },
  "cells": [
    {
      "cell_type": "markdown",
      "metadata": {
        "id": "view-in-github",
        "colab_type": "text"
      },
      "source": [
        "<a href=\"https://colab.research.google.com/github/fhfmendes04/SIN5013---Estruturas-de-Dados/blob/main/Lista_Ligada_circular_n%C3%B3_cabe%C3%A7a.ipynb\" target=\"_parent\"><img src=\"https://colab.research.google.com/assets/colab-badge.svg\" alt=\"Open In Colab\"/></a>"
      ]
    },
    {
      "cell_type": "markdown",
      "source": [
        "Class da lista Ligada"
      ],
      "metadata": {
        "id": "Ok8q566_XzYn"
      }
    },
    {
      "cell_type": "code",
      "execution_count": 85,
      "metadata": {
        "id": "mXfa-liK0lND"
      },
      "outputs": [],
      "source": [
        "class Registro:\n",
        "    \"\"\" elemento com ponteiro. \"\"\"\n",
        "    def __init__(self, elemento=None):\n",
        "        self.elemento = elemento\n",
        "        self.proximo = None\n",
        "\n",
        "class lista_ligada:\n",
        "\n",
        "  def __init__ (self):\n",
        "    ''' Inicializa a Lista Ligada'''\n",
        "    self.cabeca = Registro('')\n",
        "    self.cabeca.proximo = self.cabeca\n",
        "\n",
        "  def reiniciar_lista(self):\n",
        "    ''' Reinicia lista zerando o número de elemento.'''\n",
        "    end = self.inicio\n",
        "    while (end != None):\n",
        "      apagar = end\n",
        "      end = end.proximo\n",
        "      del(apagar)\n",
        "      \n",
        "    self.inicio = None\n",
        "  \n",
        "  def inserir_ult(self, elemento):\n",
        "    ''' Inseri na última posição da lista como append.'''\n",
        "    registro = Registro(elemento)\n",
        "    \n",
        "    ini = self.inicio # somente um elemento\n",
        "    if (ini == None):\n",
        "      self.inicio = registro\n",
        "      return True\n",
        "\n",
        "    while(ini != None): #após o primeiro elemento\n",
        "      pos = ini\n",
        "      ini = ini.proximo\n",
        "    \n",
        "    pos.proximo = registro\n",
        "    return True\n",
        "\n",
        "  def exibir_lista(self):\n",
        "    ''' Lista os elementos da lista. '''\n",
        "    l = []\n",
        "    end = self.cabeca.proximo\n",
        "    while(end != self.cabeca):\n",
        "      l.append(end.elemento)\n",
        "      end = end.proximo\n",
        "    return l\n",
        "\n",
        "  def retorna_numero_elemento(self):\n",
        "    ''' Retorna o número de elementos.'''\n",
        "    end = self.cabeca.proximo\n",
        "    tam = 0\n",
        "    while (end != self.cabeca):\n",
        "      tam += 1\n",
        "      end = end.proximo\n",
        "\n",
        "    return tam\n",
        "\n",
        "  def busca_sentinela(self, elemento):\n",
        "    ''' busca elemento na lista e retorna sua posição. Usando sentinela como nó'''\n",
        "    pos = self.cabeca.proximo\n",
        "    self.cabeca.elemento = elemento\n",
        "    while (pos.elemento != elemento):\n",
        "      pos = pos.proximo\n",
        "    \n",
        "    if (pos != self.cabeca):\n",
        "      return pos\n",
        "    else:\n",
        "      return None\n",
        "\n",
        "  def busca_sentinela_ord(self, elemento):\n",
        "    ''' busca elemento na lista e retorna sua posição. Usando sentinela como nó'''\n",
        "    pos = self.cabeca.proximo\n",
        "    self.cabeca.elemento = elemento\n",
        "    while (pos.elemento < elemento):\n",
        "      pos = pos.proximo\n",
        "    \n",
        "    if (pos != self.cabeca) and (pos.elemento == elemento):\n",
        "      return pos\n",
        "    else:\n",
        "      return None\n",
        "\n",
        "\n",
        "  def busca_sequencial_ord(self, elemento):\n",
        "    ''' busca elemento na lista e retorna sua posição.'''\n",
        "    pos = self.cabeca.proximo\n",
        "    posicao = 0\n",
        "\n",
        "    while (pos != self.cabeca) and (pos.elemento < elemento):\n",
        "      pos = pos.proximo\n",
        "      posicao += 1\n",
        "    \n",
        "    if (pos != self.cabeca) and (pos.elemento == elemento):\n",
        "       return posicao\n",
        "\n",
        "    return None\n",
        "\n",
        "  def busca_sequencial_exc(self, elemento):\n",
        "    ''' busca elemento na lista e retorna sua posição.'''\n",
        "    ant = self.cabeca\n",
        "    atual = self.cabeca.proximo\n",
        "\n",
        "    while (atual != self.cabeca) and (atual.elemento < elemento):\n",
        "      ant = atual\n",
        "      atual = atual.proximo\n",
        "    \n",
        "    if (atual != self.cabeca) and (atual.elemento == elemento):\n",
        "       return ant #atual\n",
        "    return None\n",
        "\n",
        "  def inserir_elemento_lista_ord(self, elemento):\n",
        "    ''' Inserir elemento em uma posição determinada.'''\n",
        "    atual = self.cabeca.proximo \n",
        "    ant = None\n",
        "    \n",
        "    if (atual == self.cabeca): #Verifica se está vazia.\n",
        "      registro = Registro(elemento)\n",
        "      self.cabeca.proximo = registro\n",
        "      registro.proximo = self.cabeca\n",
        "      return True \n",
        "  \n",
        "    posicao = lista.busca_sequencial_exc(elemento)\n",
        "\n",
        "    if (posicao != None): # não insere elemento repetido\n",
        "      return False\n",
        "    \n",
        "    registro = Registro(elemento)\n",
        "\n",
        "    while (atual != self.cabeca) and (atual.elemento < elemento):\n",
        "      ant = atual\n",
        "      atual = atual.proximo\n",
        "\n",
        "    if (ant == self.cabeca): #inicio da lista.\n",
        "      registro.proximo = atual\n",
        "      self.cabeca.proximo = registro\n",
        "      return True\n",
        "    else:\n",
        "      if (atual == self.cabeca): #final da lista.\n",
        "        ant.proximo = registro\n",
        "        registro.proximo = self.cabeca\n",
        "        return True\n",
        "      else:\n",
        "        registro.proximo = atual # meio da lista\n",
        "        ant.proximo = registro\n",
        "        return True  \n",
        "\n",
        "  def inserir_elemento_lista_ord2(self, elemento):\n",
        "    ''' Inserir elemento em uma posição determinada.'''\n",
        "    posicao = lista.busca_sequencial_exc(elemento)\n",
        "\n",
        "    if (posicao != None): # não insere elemento repetido\n",
        "      return False \n",
        "\n",
        "    registro = Registro(elemento)\n",
        "\n",
        "    atual = posicao.proximo \n",
        "    ant = posicao\n",
        "    while (atual != self.cabeca) and (atual.elemento < elemento):\n",
        "      ant = atual\n",
        "      atual = atual.proximo\n",
        "\n",
        "    if (atual == self.cabeca): #inicio da lista.\n",
        "      registro.proximo = self.cabeca\n",
        "      self.cabeca.proximo = registro\n",
        "      return True\n",
        "    else:\n",
        "      if (atual == ant): #final da lista.\n",
        "        ant.proximo = registro\n",
        "        registro.proximo = self.cabeca\n",
        "        return True\n",
        "      else:\n",
        "        registro.proximo = atual # meio da lista\n",
        "        ant.proximo = registro\n",
        "        return True \n",
        "\n",
        "  def excluir_elemento(self, elemento):\n",
        "    ''' Excluir elemento.'''\n",
        "    posicao = lista.busca_sequencial_exc(elemento)\n",
        "\n",
        "    if (posicao == self.cabeca):\n",
        "      return False\n",
        "\n",
        "    ponteiro = self.cabeca\n",
        "\n",
        "    \n",
        "    if (posicao == posicao.self.cabeca):\n",
        "      self.inicio = ponteiro.proximo\n",
        "      return True\n",
        "\n",
        "    while(posicao != pos):\n",
        "      ponteiro_anterior = ponteiro\n",
        "      ponteiro = ponteiro.proximo\n",
        "      pos +=1\n",
        "    \n",
        "    ponteiro_anterior.proximo = ponteiro.proximo \n",
        "    return True\n",
        "\n",
        "    ini = self.inicio\n",
        "    if (ini == None):\n",
        "      self.inicio = registro\n",
        "      return True\n",
        "\n",
        "    while(ini != None):\n",
        "      pos = ini\n",
        "      ini = ini.proximo\n",
        "    \n",
        "    pos.proximo = registro\n",
        "    return True\n"
      ]
    },
    {
      "cell_type": "markdown",
      "source": [
        "Inicializar a estrutura"
      ],
      "metadata": {
        "id": "q9sgd56f0rTI"
      }
    },
    {
      "cell_type": "code",
      "source": [
        "lista = lista_ligada()"
      ],
      "metadata": {
        "id": "jnH1uJwCFtAK"
      },
      "execution_count": 86,
      "outputs": []
    },
    {
      "cell_type": "markdown",
      "source": [
        "Inserir elemento de modo ordenado."
      ],
      "metadata": {
        "id": "5c5Ftip8ZeQ0"
      }
    },
    {
      "cell_type": "code",
      "source": [
        "lista.inserir_elemento_lista_ord(10)\n",
        "lista.inserir_elemento_lista_ord(20)\n",
        "lista.inserir_elemento_lista_ord(15)\n",
        "lista.inserir_elemento_lista_ord(40)"
      ],
      "metadata": {
        "id": "GF47MEFUZezQ",
        "colab": {
          "base_uri": "https://localhost:8080/"
        },
        "outputId": "07d106c6-c8a0-43ae-a45a-7ec129bbf77b"
      },
      "execution_count": 87,
      "outputs": [
        {
          "output_type": "execute_result",
          "data": {
            "text/plain": [
              "True"
            ]
          },
          "metadata": {},
          "execution_count": 87
        }
      ]
    },
    {
      "cell_type": "markdown",
      "source": [
        "Retorna o Número de elementos."
      ],
      "metadata": {
        "id": "S_BV3zWW9coD"
      }
    },
    {
      "cell_type": "code",
      "source": [
        "lista.retorna_numero_elemento()"
      ],
      "metadata": {
        "colab": {
          "base_uri": "https://localhost:8080/"
        },
        "id": "cPK-mNur9c5y",
        "outputId": "28cdd5cf-58f9-496f-9711-668138a5c3eb"
      },
      "execution_count": 88,
      "outputs": [
        {
          "output_type": "execute_result",
          "data": {
            "text/plain": [
              "4"
            ]
          },
          "metadata": {},
          "execution_count": 88
        }
      ]
    },
    {
      "cell_type": "markdown",
      "source": [
        "Impressão da Lista"
      ],
      "metadata": {
        "id": "baVPAv12_jJU"
      }
    },
    {
      "cell_type": "code",
      "source": [
        "lista.exibir_lista()"
      ],
      "metadata": {
        "colab": {
          "base_uri": "https://localhost:8080/"
        },
        "id": "CucDuqtd_y5k",
        "outputId": "8ccef8c8-19d6-42ad-bfe9-8eba1fc59977"
      },
      "execution_count": 89,
      "outputs": [
        {
          "output_type": "execute_result",
          "data": {
            "text/plain": [
              "[10, 15, 20, 40]"
            ]
          },
          "metadata": {},
          "execution_count": 89
        }
      ]
    },
    {
      "cell_type": "markdown",
      "source": [
        "Busca por elemento"
      ],
      "metadata": {
        "id": "euqIFxOT_js9"
      }
    },
    {
      "cell_type": "code",
      "source": [
        "print(lista.busca_sentinela(30))"
      ],
      "metadata": {
        "colab": {
          "base_uri": "https://localhost:8080/"
        },
        "id": "mr0vzdOfA80x",
        "outputId": "3ef69f15-e960-4407-f3e3-5fd296f51cb1"
      },
      "execution_count": 90,
      "outputs": [
        {
          "output_type": "stream",
          "name": "stdout",
          "text": [
            "None\n"
          ]
        }
      ]
    },
    {
      "cell_type": "code",
      "source": [
        "lista.busca_sentinela(10)"
      ],
      "metadata": {
        "id": "-8E0qQ4CBHBD",
        "outputId": "8a8abe53-04ef-496b-f339-735d13a18320",
        "colab": {
          "base_uri": "https://localhost:8080/"
        }
      },
      "execution_count": 91,
      "outputs": [
        {
          "output_type": "execute_result",
          "data": {
            "text/plain": [
              "<__main__.Registro at 0x7f09a9510890>"
            ]
          },
          "metadata": {},
          "execution_count": 91
        }
      ]
    },
    {
      "cell_type": "markdown",
      "source": [
        "Exclusão de elemento."
      ],
      "metadata": {
        "id": "xp6u2Hm7BbhV"
      }
    },
    {
      "cell_type": "code",
      "source": [
        "lista.exibir_lista()"
      ],
      "metadata": {
        "id": "pHApfkgZzPER",
        "outputId": "5a5e1eea-9234-4051-a53d-52e35ec3e113",
        "colab": {
          "base_uri": "https://localhost:8080/"
        }
      },
      "execution_count": 92,
      "outputs": [
        {
          "output_type": "execute_result",
          "data": {
            "text/plain": [
              "[10, 15, 20, 40]"
            ]
          },
          "metadata": {},
          "execution_count": 92
        }
      ]
    },
    {
      "cell_type": "code",
      "source": [
        "# Eliminar o primeiro elemento.\n",
        "lista.excluir_elemento(10)\n",
        "lista.exibir_lista()"
      ],
      "metadata": {
        "colab": {
          "base_uri": "https://localhost:8080/",
          "height": 332
        },
        "id": "XhK2v4tYBcBS",
        "outputId": "172f528a-9152-4c88-9b5a-b6b56b9e2e3f"
      },
      "execution_count": 93,
      "outputs": [
        {
          "output_type": "error",
          "ename": "AttributeError",
          "evalue": "ignored",
          "traceback": [
            "\u001b[0;31m---------------------------------------------------------------------------\u001b[0m",
            "\u001b[0;31mAttributeError\u001b[0m                            Traceback (most recent call last)",
            "\u001b[0;32m<ipython-input-93-8c41a1734c38>\u001b[0m in \u001b[0;36m<module>\u001b[0;34m()\u001b[0m\n\u001b[1;32m      1\u001b[0m \u001b[0;31m# Eliminar o primeiro elemento.\u001b[0m\u001b[0;34m\u001b[0m\u001b[0;34m\u001b[0m\u001b[0;34m\u001b[0m\u001b[0m\n\u001b[0;32m----> 2\u001b[0;31m \u001b[0mlista\u001b[0m\u001b[0;34m.\u001b[0m\u001b[0mexcluir_elemento\u001b[0m\u001b[0;34m(\u001b[0m\u001b[0;36m10\u001b[0m\u001b[0;34m)\u001b[0m\u001b[0;34m\u001b[0m\u001b[0;34m\u001b[0m\u001b[0m\n\u001b[0m\u001b[1;32m      3\u001b[0m \u001b[0mlista\u001b[0m\u001b[0;34m.\u001b[0m\u001b[0mexibir_lista\u001b[0m\u001b[0;34m(\u001b[0m\u001b[0;34m)\u001b[0m\u001b[0;34m\u001b[0m\u001b[0;34m\u001b[0m\u001b[0m\n",
            "\u001b[0;32m<ipython-input-85-57168c947982>\u001b[0m in \u001b[0;36mexcluir_elemento\u001b[0;34m(self, elemento)\u001b[0m\n\u001b[1;32m    147\u001b[0m   \u001b[0;32mdef\u001b[0m \u001b[0mexcluir_elemento\u001b[0m\u001b[0;34m(\u001b[0m\u001b[0mself\u001b[0m\u001b[0;34m,\u001b[0m \u001b[0melemento\u001b[0m\u001b[0;34m)\u001b[0m\u001b[0;34m:\u001b[0m\u001b[0;34m\u001b[0m\u001b[0;34m\u001b[0m\u001b[0m\n\u001b[1;32m    148\u001b[0m     \u001b[0;34m''' Excluir elemento.'''\u001b[0m\u001b[0;34m\u001b[0m\u001b[0;34m\u001b[0m\u001b[0m\n\u001b[0;32m--> 149\u001b[0;31m     \u001b[0mposicao\u001b[0m \u001b[0;34m=\u001b[0m \u001b[0mlista\u001b[0m\u001b[0;34m.\u001b[0m\u001b[0mbusca_sequencial_exe\u001b[0m\u001b[0;34m(\u001b[0m\u001b[0melemento\u001b[0m\u001b[0;34m)\u001b[0m\u001b[0;34m\u001b[0m\u001b[0;34m\u001b[0m\u001b[0m\n\u001b[0m\u001b[1;32m    150\u001b[0m     \u001b[0;31m#posicao = lista.busca_sequencial_ord(elemento)\u001b[0m\u001b[0;34m\u001b[0m\u001b[0;34m\u001b[0m\u001b[0;34m\u001b[0m\u001b[0m\n\u001b[1;32m    151\u001b[0m     \u001b[0;32mif\u001b[0m \u001b[0;34m(\u001b[0m\u001b[0mposicao\u001b[0m \u001b[0;34m==\u001b[0m \u001b[0;32mNone\u001b[0m\u001b[0;34m)\u001b[0m\u001b[0;34m:\u001b[0m\u001b[0;34m\u001b[0m\u001b[0;34m\u001b[0m\u001b[0m\n",
            "\u001b[0;31mAttributeError\u001b[0m: 'lista_ligada' object has no attribute 'busca_sequencial_exe'"
          ]
        }
      ]
    },
    {
      "cell_type": "code",
      "source": [
        "lista.excluir_elemento(100)"
      ],
      "metadata": {
        "colab": {
          "base_uri": "https://localhost:8080/"
        },
        "id": "07M6bkO7hD6x",
        "outputId": "14308eb6-b7c2-46d9-b365-ca4b21fd3ee4"
      },
      "execution_count": null,
      "outputs": [
        {
          "output_type": "execute_result",
          "data": {
            "text/plain": [
              "False"
            ]
          },
          "metadata": {},
          "execution_count": 20
        }
      ]
    },
    {
      "cell_type": "code",
      "source": [
        "# Eliminar elemento na última posição\n",
        "lista.excluir_elemento(40)\n",
        "lista.exibir_lista()"
      ],
      "metadata": {
        "colab": {
          "base_uri": "https://localhost:8080/"
        },
        "id": "K0ixOjCHhHcd",
        "outputId": "46b91e1b-0509-447b-9a06-78d268449d44"
      },
      "execution_count": null,
      "outputs": [
        {
          "output_type": "execute_result",
          "data": {
            "text/plain": [
              "[20, 30]"
            ]
          },
          "metadata": {},
          "execution_count": 21
        }
      ]
    },
    {
      "cell_type": "code",
      "source": [
        "# Eliminar elemento nao meio.\n",
        "lista.excluir_elemento(20)\n",
        "lista.exibir_lista()"
      ],
      "metadata": {
        "id": "EjGcaWw2zk7f",
        "outputId": "bf8069cc-2497-40b4-d414-1e081235379c",
        "colab": {
          "base_uri": "https://localhost:8080/"
        }
      },
      "execution_count": null,
      "outputs": [
        {
          "output_type": "execute_result",
          "data": {
            "text/plain": [
              "[30]"
            ]
          },
          "metadata": {},
          "execution_count": 22
        }
      ]
    },
    {
      "cell_type": "markdown",
      "source": [
        "Reiniciar lista."
      ],
      "metadata": {
        "id": "1wWFAg0ZBchG"
      }
    },
    {
      "cell_type": "code",
      "source": [
        "lista.exibir_lista()"
      ],
      "metadata": {
        "colab": {
          "base_uri": "https://localhost:8080/"
        },
        "id": "yXj4I9gShxHt",
        "outputId": "4e803d13-86d1-4b5a-ca70-3e30623559b2"
      },
      "execution_count": null,
      "outputs": [
        {
          "output_type": "execute_result",
          "data": {
            "text/plain": [
              "[10, 20, 30, 40]"
            ]
          },
          "metadata": {},
          "execution_count": 26
        }
      ]
    },
    {
      "cell_type": "code",
      "source": [
        "lista.reiniciar_lista()"
      ],
      "metadata": {
        "id": "wNS_Qa45Bcx8"
      },
      "execution_count": null,
      "outputs": []
    },
    {
      "cell_type": "code",
      "source": [
        "lista.exibir_lista()"
      ],
      "metadata": {
        "colab": {
          "base_uri": "https://localhost:8080/"
        },
        "id": "5wqHxperh2so",
        "outputId": "5fb5194c-8876-48c9-d08b-fa92879bd72e"
      },
      "execution_count": null,
      "outputs": [
        {
          "output_type": "execute_result",
          "data": {
            "text/plain": [
              "[]"
            ]
          },
          "metadata": {},
          "execution_count": 28
        }
      ]
    }
  ]
}